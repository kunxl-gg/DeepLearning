{
 "cells": [
  {
   "cell_type": "code",
   "execution_count": 15,
   "metadata": {},
   "outputs": [],
   "source": [
    "import torch\n",
    "import torch.nn as nn\n",
    "from torch.utils.data import random_split\n",
    "from torch.utils.data import Dataset, DataLoader\n",
    "from torchvision.transforms import transforms\n",
    "from torchvision.datasets import CIFAR10\n",
    "import matplotlib.pyplot as plt"
   ]
  },
  {
   "cell_type": "code",
   "execution_count": 11,
   "metadata": {},
   "outputs": [
    {
     "name": "stdout",
     "output_type": "stream",
     "text": [
      "Downloading https://www.cs.toronto.edu/~kriz/cifar-10-python.tar.gz to ./data/cifar-10-python.tar.gz\n"
     ]
    },
    {
     "name": "stderr",
     "output_type": "stream",
     "text": [
      "  0%|          | 0/170498071 [00:00<?, ?it/s]0.00s - Debugger warning: It seems that frozen modules are being used, which may\n",
      "0.00s - make the debugger miss breakpoints. Please pass -Xfrozen_modules=off\n",
      "0.00s - to python to disable frozen modules.\n",
      "0.00s - Note: Debugging will proceed. Set PYDEVD_DISABLE_FILE_VALIDATION=1 to disable this validation.\n",
      "100%|██████████| 170498071/170498071 [00:56<00:00, 3035384.53it/s]\n"
     ]
    },
    {
     "name": "stdout",
     "output_type": "stream",
     "text": [
      "Extracting ./data/cifar-10-python.tar.gz to ./data\n",
      "Files already downloaded and verified\n"
     ]
    }
   ],
   "source": [
    "# Transformers\n",
    "transform = transforms.Compose( \n",
    "    [transforms.ToTensor(),\n",
    "     transforms.Normalize((0.5, 0.5, 0.5), (0.5, 0.5, 0.5))]   \n",
    ")\n",
    "\n",
    "# Dataset and a dataloader\n",
    "dataset = CIFAR10(root=\"./data\", train=True, transform=transform, download=True)\n",
    "test_dataset = CIFAR10(root=\"./data\", train=False, transform=transform, download=True)\n",
    "\n",
    "# Train and Validation split\n",
    "train_size = int(0.8 * len(dataset))\n",
    "validation_size = len(dataset) - train_size\n",
    "\n",
    "train_dataset, validation_dataset = random_split(dataset, [train_size, validation_size])\n",
    "\n",
    "# Train and Test Loaders\n",
    "train_loader =  DataLoader(train_dataset, shuffle=True, batch_size=64)\n",
    "validation_loader = DataLoader(validation_dataset, shuffle=True, batch_size=64)\n",
    "test_loader = DataLoader(test_dataset, shuffle=True, batch_size=64)"
   ]
  },
  {
   "cell_type": "code",
   "execution_count": 12,
   "metadata": {},
   "outputs": [],
   "source": [
    "# Custome CNN class\n",
    "class CNN(nn.Module):\n",
    "    def __int__(self):\n",
    "      super(CNN, self).__init__()\n",
    "      first_conv = nn.Conv2d(3, 16, kernel_size=3, stride=1, padding=1)\n",
    "      pool = nn.MaxPool2d(kernel_size=2, stride=2, padding=0)\n",
    "      second_conv = nn.Conv2d(16, 32, kernel_size=3, stride=1, padding=1)\n",
    "      relu = nn.ReLU()\n",
    "      linear = nn.Linear(32*8*8, 10)\n",
    "      softmax = nn.Softmax(dim=1)\n",
    "\n",
    "    # forward function\n",
    "    def forward(self, x):\n",
    "      x = self.pool(self.first_conv(x))\n",
    "      x = self.second_conv(x)\n",
    "      x = self.relu(x)\n",
    "      x = self.pool(x)\n",
    "      x = x.view(-1, 32*8*8)\n",
    "      x = self.linear(x)\n",
    "      x = self.softmax(x)\n",
    "      return x"
   ]
  },
  {
   "cell_type": "code",
   "execution_count": null,
   "metadata": {},
   "outputs": [],
   "source": [
    "# Training Function"
   ]
  },
  {
   "cell_type": "code",
   "execution_count": null,
   "metadata": {},
   "outputs": [],
   "source": [
    "# Evaluation Loop"
   ]
  },
  {
   "cell_type": "code",
   "execution_count": 4,
   "metadata": {},
   "outputs": [],
   "source": [
    "# Main function \n",
    "if __name__ == \"__main__\": \n",
    "  pass"
   ]
  }
 ],
 "metadata": {
  "kernelspec": {
   "display_name": "Python 3",
   "language": "python",
   "name": "python3"
  },
  "language_info": {
   "codemirror_mode": {
    "name": "ipython",
    "version": 3
   },
   "file_extension": ".py",
   "mimetype": "text/x-python",
   "name": "python",
   "nbconvert_exporter": "python",
   "pygments_lexer": "ipython3",
   "version": "3.11.6"
  }
 },
 "nbformat": 4,
 "nbformat_minor": 2
}
