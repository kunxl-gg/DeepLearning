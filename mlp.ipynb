{
 "cells": [
  {
   "cell_type": "code",
   "execution_count": 1,
   "metadata": {},
   "outputs": [],
   "source": [
    "import torch \n",
    "import torch.nn as nn\n",
    "import torch.nn.functional as F\n",
    "import torch.optim as optim\n",
    "from torch.utils.data import Dataset, DataLoader\n",
    "from sklearn.model_selection import train_test_split\n",
    "import pandas as pd\n",
    "import numpy as np\n",
    "import matplotlib.pyplot as plt"
   ]
  },
  {
   "cell_type": "code",
   "execution_count": 19,
   "metadata": {},
   "outputs": [],
   "source": [
    "class CustomDataset(Dataset):\n",
    "    def __init__(self, dataframe):\n",
    "        super().__init__()\n",
    "        self.features = torch.tensor(dataframe.iloc[:, :-1].values, dtype=torch.float32)\n",
    "        self.labels = torch.tensor(dataframe.iloc[:, -1].values, dtype=torch.long)\n",
    "    \n",
    "    def __len__(self):\n",
    "        return self.features.size(0)\n",
    "    \n",
    "    def __getitem__(self, index):\n",
    "        pass"
   ]
  },
  {
   "cell_type": "code",
   "execution_count": null,
   "metadata": {},
   "outputs": [],
   "source": [
    "# Loading the dataset and encoding it to numerical values\n",
    "dataset = pd.read_excel('./dataset/Dry_Bean_Dataset.xlsx')\n",
    "train_data, test_data = train_test_split(dataset, test_size=0.2, random_state=42)\n",
    "\n",
    "# Creating the custom dataset\n",
    "train_dataset = CustomDataset(train_data)\n",
    "test_dataset = CustomDataset(test_data)\n",
    "\n",
    "# Creating the dataloaders\n",
    "train_dataloader = DataLoader(train_dataset, batch_size=64, shuffle=True)\n",
    "test_dataloader = DataLoader(test_dataset, batch_size=64, shuffle=True)"
   ]
  },
  {
   "cell_type": "code",
   "execution_count": 20,
   "metadata": {},
   "outputs": [],
   "source": [
    "# Making Our Neural Network\n",
    "class MLP(nn.Module):\n",
    "    def __init__(self):\n",
    "        super().__init__()\n",
    "        self.first_layer = nn.Linear(16, 32)\n",
    "        self.second_layer = nn.Linear(32, 64)\n",
    "        self.third_layer = nn.Linear(64, 128)\n",
    "        self.fourth_layer = nn.Linear(128, 64)\n",
    "        self.fifth_layer = nn.Linear(64, 32)\n",
    "        self.output_layer = nn.Linear(32, 7)\n",
    "        self.relu = nn.ReLU()\n",
    "\n",
    "    def forward(self, x):\n",
    "        x = self.relu(self.first_layer(x))\n",
    "        x = self.relu(self.second_layer(x))\n",
    "        x = self.relu(self.third_layer(x))\n",
    "        x = self.relu(self.fourth_layer(x))\n",
    "        x = self.relu(self.fifth_layer(x))\n",
    "        x = self.output_layer(x)\n",
    "        return x"
   ]
  },
  {
   "cell_type": "code",
   "execution_count": null,
   "metadata": {},
   "outputs": [],
   "source": [
    "# Defining the train and Test functions\n",
    "def train_model(model, train_loader, optimiser, criterion, epochs):\n",
    "    for epoch in epochs:\n",
    "        for batch_index, (data, labels) in enumerate(train_loader):\n",
    "            optimiser.zero_grad()\n",
    "            output = model(data)\n",
    "            loss = criterion(output, labels)\n",
    "            loss.backward()\n",
    "            optimiser.step()\n",
    "            if batch_index % 10 == 0:\n",
    "                print(f\"Epoch: {epoch} Batch: {batch_index} Loss: {loss.item()}\")\n",
    "\n",
    "def test_model(model, test_loader):\n",
    "    correct = 0\n",
    "    total = 0\n",
    "    with torch.no_grad():\n",
    "        for data, labels in test_loader:\n",
    "            output = model(data)\n",
    "            _, predicted = torch.max(output.data, 1)\n",
    "            total += labels.size(0)\n",
    "            correct += (predicted == labels).sum().item()\n",
    "    print(f\"Accuracy of the model on the test set is: {100 * correct / total}\")"
   ]
  },
  {
   "cell_type": "code",
   "execution_count": null,
   "metadata": {},
   "outputs": [],
   "source": [
    "if __name__ == \"__main__\":\n",
    "    model = MLP()\n",
    "    optimiser = optim.Adam(model.parameters(), lr=0.01)\n",
    "    criterion = nn.CrossEntropyLoss()\n",
    "    epochs = 100\n",
    "    train_model(model, train_dataloader, optimiser, criterion, epochs)\n",
    "    test_model(model, test_dataloader)"
   ]
  }
 ],
 "metadata": {
  "kernelspec": {
   "display_name": "Python 3",
   "language": "python",
   "name": "python3"
  },
  "language_info": {
   "codemirror_mode": {
    "name": "ipython",
    "version": 3
   },
   "file_extension": ".py",
   "mimetype": "text/x-python",
   "name": "python",
   "nbconvert_exporter": "python",
   "pygments_lexer": "ipython3",
   "version": "3.11.6"
  }
 },
 "nbformat": 4,
 "nbformat_minor": 2
}
