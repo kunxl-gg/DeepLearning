{
  "cells": [
    {
      "cell_type": "code",
      "execution_count": 195,
      "metadata": {
        "jukit_cell_id": "ooU9VjCdaz"
      },
      "outputs": [],
      "source": [
        "# This is a file about autoencoders\n",
        "import torch\n",
        "import torch.nn as nn\n",
        "import torch.functional as F\n",
        "from torchvision import transforms\n",
        "from torch.utils.data import Dataset\n",
        "from torch.utils.data import DataLoader\n",
        "from torchvision.datasets import SVHN\n",
        "from matplotlib.pyplot import imshow\n",
        "import matplotlib.pyplot as plt\n",
        "import numpy as np\n",
        "import seaborn as sns"
      ]
    },
    {
      "cell_type": "code",
      "execution_count": 162,
      "metadata": {},
      "outputs": [],
      "source": [
        "# Setting up for GPU\n",
        "device = torch.device(\"cuda\" if torch.cuda.is_available() else \"cpu\")"
      ]
    },
    {
      "cell_type": "markdown",
      "metadata": {},
      "source": [
        "## Autoencoder "
      ]
    },
    {
      "cell_type": "code",
      "execution_count": 163,
      "metadata": {
        "jukit_cell_id": "cSL8il9NVH"
      },
      "outputs": [
        {
          "name": "stdout",
          "output_type": "stream",
          "text": [
            "Using downloaded and verified file: ./dataset/train_32x32.mat\n",
            "Using downloaded and verified file: ./dataset/test_32x32.mat\n"
          ]
        }
      ],
      "source": [
        "# Dataset \n",
        "dataset = SVHN(root=\"./dataset\", download=True, transform=transforms.ToTensor(), split=\"train\")\n",
        "\n",
        "# Train and evaluation split \n",
        "train_length = int(len(dataset) * 0.7)\n",
        "val_length = int(len(dataset)) - train_length\n",
        "\n",
        "# Randomly split the dataset into train, validation, and test sets\n",
        "train_dataset, validation_dataset = torch.utils.data.random_split(dataset, [train_length, val_length])\n",
        "test_dataset = SVHN(root=\"./dataset\", download=True, transform=transforms.ToTensor(), split=\"test\")\n",
        "\n",
        "# Dataloader\n",
        "train_loader = DataLoader(train_dataset, batch_size=128, shuffle=True)  \n",
        "validation_loader = DataLoader(validation_dataset, batch_size=128, shuffle=True)\n",
        "test_loader = DataLoader(test_dataset, batch_size=128, shuffle=True)"
      ]
    },
    {
      "cell_type": "markdown",
      "metadata": {},
      "source": []
    },
    {
      "cell_type": "code",
      "execution_count": 164,
      "metadata": {
        "jukit_cell_id": "9xdG9X8gQ3"
      },
      "outputs": [],
      "source": [
        "# Custom Autoencoder class with one Layer\n",
        "class AutoEncoder(nn.Module):\n",
        "    def __init__(self):\n",
        "        super(AutoEncoder, self).__init__()\n",
        "        self.encoder = nn.Sequential(\n",
        "            nn.Linear(3072, 1024),\n",
        "            nn.ReLU(),\n",
        "            nn.Linear(1024, 512),\n",
        "            nn.ReLU(),\n",
        "            nn.Linear(512, 256),\n",
        "            nn.ReLU(),\n",
        "        )\n",
        "        self.decoder = nn.Sequential(\n",
        "            nn.Linear(256, 512),\n",
        "            nn.ReLU(),\n",
        "            nn.Linear(512, 1024),\n",
        "            nn.ReLU(),\n",
        "            nn.Linear(1024, 3072),\n",
        "            nn.ReLU(),\n",
        "        )\n",
        "\n",
        "    def forward(self, x):\n",
        "        x = self.encoder(x)\n",
        "        x = self.decoder(x)\n",
        "        return x"
      ]
    },
    {
      "cell_type": "code",
      "execution_count": 191,
      "metadata": {},
      "outputs": [],
      "source": [
        "# Plot Loss Function\n",
        "def plot_loss(epochs, losses):\n",
        "    sns.set_style(\"dark\")\n",
        "    sns.set_theme(style=\"darkgrid\")\n",
        "    sns.scatterplot(x=epochs, y=losses, color=\"red\")\n",
        "    plt.grid(True)\n",
        "    plt.title(\"Training Loss Graph\")\n",
        "    plt.xlabel(\"Epochs\")\n",
        "    plt.ylabel(\"Loss\")"
      ]
    },
    {
      "cell_type": "code",
      "execution_count": 199,
      "metadata": {},
      "outputs": [],
      "source": [
        "# Training Function\n",
        "def train(total_epochs, model:nn.Module, train_loader:DataLoader, optimizer, criterion):\n",
        "    model.train()\n",
        "    losses = []\n",
        "    epochs = [i for i in range(total_epochs)]\n",
        "    for epoch in range(total_epochs):\n",
        "        epoch_loss = 0\n",
        "        for (image, _) in train_loader:\n",
        "            features = image.reshape(-1, 32*32*3).float().to(device)\n",
        "            optimizer.zero_grad()\n",
        "            output = model(features)\n",
        "            loss = criterion(output, features)\n",
        "            loss.backward()\n",
        "            optimizer.step()\n",
        "            epoch_loss += loss.item()\n",
        "        losses.append(epoch_loss/len(train_loader))\n",
        "        print(f\"Epoch: {epoch+1} Loss: {epoch_loss/len(train_loader):.4f}\")\n",
        "    plot_loss(epochs, losses)\n",
        "\n",
        "# Evaluation Function\n",
        "def evaluate(model, test_loader, criterion): \n",
        "    with torch.no_grad:\n",
        "        model.eval()\n",
        "        total_loss = 0\n",
        "        for image, _ in test_loader:\n",
        "            features = image.reshape(-1, 32*32*3).float().to(device)\n",
        "            output = model(features)\n",
        "            print(type(output), type(features), type(image), image.shape, features.shape, output.shape)\n",
        "            loss = criterion(output, features)\n",
        "            total_loss += loss.item()\n",
        "        print(f\"Loss: {total_loss/len(test_loader):.4f}\")"
      ]
    },
    {
      "cell_type": "code",
      "execution_count": 200,
      "metadata": {},
      "outputs": [],
      "source": [
        "total_epochs = 10\n",
        "learning_rate = 0.001   \n",
        "model = AutoEncoder()\n",
        "criterion = nn.MSELoss()\n",
        "optimizer = torch.optim.Adam(model.parameters(), lr=learning_rate, weight_decay=1e-5)\n"
      ]
    },
    {
      "cell_type": "code",
      "execution_count": 201,
      "metadata": {},
      "outputs": [
        {
          "name": "stdout",
          "output_type": "stream",
          "text": [
            "Epoch: 1 Loss: 0.0239\n",
            "Epoch: 2 Loss: 0.0116\n",
            "Epoch: 3 Loss: 0.0101\n",
            "Epoch: 4 Loss: 0.0095\n",
            "Epoch: 5 Loss: 0.0090\n",
            "Epoch: 6 Loss: 0.0086\n",
            "Epoch: 7 Loss: 0.0079\n",
            "Epoch: 8 Loss: 0.0077\n",
            "Epoch: 9 Loss: 0.0076\n",
            "Epoch: 10 Loss: 0.0075\n"
          ]
        },
        {
          "data": {
            "image/png": "[encoded data removed]",
            "text/plain": [
              "<Figure size 640x480 with 1 Axes>"
            ]
          },
          "metadata": {},
          "output_type": "display_data"
        }
      ],
      "source": [
        "# Training Model\n",
        "train(total_epochs, model, train_loader, optimizer, criterion)\n",
        "torch.save(model.state_dict(), \"autoencoder.pth\")"
      ]
    },
    {
      "cell_type": "code",
      "execution_count": null,
      "metadata": {},
      "outputs": [],
      "source": [
        "model = AutoEncoder()\n",
        "model.load_state_dict(torch.load(\"autoencoder.pth\"))\n",
        "model.eval()\n",
        "evaluate(model, test_loader, criterion)"
      ]
    },
    {
      "cell_type": "code",
      "execution_count": 190,
      "metadata": {},
      "outputs": [
        {
          "name": "stdout",
          "output_type": "stream",
          "text": [
            "torch.Size([128, 3072])\n"
          ]
        },
        {
          "data": {
            "image/png": "[encoded data removed]",
            "text/plain": [
              "<Figure size 640x480 with 1 Axes>"
            ]
          },
          "metadata": {},
          "output_type": "display_data"
        }
      ],
      "source": [
        "# Testing the Model\n",
        "sample_data = None\n",
        "for image, _ in test_loader:\n",
        "    features = image.reshape(-1, 32*32*3).float().to(device)\n",
        "    output = model(features)\n",
        "    print(features.shape)\n",
        "    sample_data = output\n",
        "    break\n",
        "\n",
        "sample_data = sample_data.reshape(-1, 3, 32, 32).cpu().detach().numpy()\n",
        "sample_data = sample_data.transpose(0, 2, 3, 1)\n",
        "plt.imshow(sample_data[0])\n",
        "plt.show()"
      ]
    },
    {
      "cell_type": "markdown",
      "metadata": {},
      "source": [
        "## Using Model as a Denoising Autoencoder"
      ]
    },
    {
      "cell_type": "code",
      "execution_count": 186,
      "metadata": {},
      "outputs": [
        {
          "name": "stdout",
          "output_type": "stream",
          "text": [
            "tensor([[[ 0.5898, -1.4498, -0.3195,  ..., -2.5108,  2.0120,  2.4541],\n",
            "         [-0.5010, -0.6520, -0.7395,  ..., -0.3673,  0.0469, -0.1793],\n",
            "         [-1.1044, -0.5866, -0.1401,  ..., -1.4378,  0.3307, -0.9413],\n",
            "         ...,\n",
            "         [ 0.0805, -0.2474,  1.0379,  ...,  1.2095, -1.4368,  0.4627],\n",
            "         [ 0.9345, -0.3180, -0.9934,  ...,  1.9650, -0.7955,  1.4081],\n",
            "         [-0.6691, -1.1095,  0.0541,  ...,  0.5500, -1.1360, -0.4657]],\n",
            "\n",
            "        [[-1.3270, -2.3405,  0.4469,  ..., -1.6662, -1.3765, -0.5025],\n",
            "         [ 1.0127,  2.2162,  0.3964,  ...,  0.9049, -1.5107,  0.0517],\n",
            "         [-0.0834, -0.2978,  1.0214,  ..., -1.6014, -0.8275, -0.3306],\n",
            "         ...,\n",
            "         [ 1.3294,  1.4431,  1.9320,  ...,  0.6185, -0.3183, -1.1476],\n",
            "         [ 0.8259, -0.9509,  0.1323,  ...,  0.9415,  0.1238,  1.2359],\n",
            "         [-1.7292,  0.6807,  0.0734,  ...,  1.0130, -0.7770,  0.5026]],\n",
            "\n",
            "        [[ 1.9868, -0.8406,  0.9884,  ...,  0.2923, -0.1544, -0.2333],\n",
            "         [ 0.5716, -1.9854, -0.0538,  ..., -0.7608, -0.9006, -0.7168],\n",
            "         [-1.5295,  2.7799, -0.2601,  ...,  0.7614, -0.1284, -0.3964],\n",
            "         ...,\n",
            "         [ 0.2046,  2.1969, -0.9901,  ...,  0.0744, -0.1946,  0.5171],\n",
            "         [ 2.1215, -0.8987, -1.6608,  ...,  0.7914,  0.7128, -1.1446],\n",
            "         [-0.4534, -0.6307,  1.5015,  ...,  1.9175,  1.4236,  0.7611]]])\n",
            "torch.Size([3, 32, 32])\n"
          ]
        }
      ],
      "source": [
        "# Noising Function\n",
        "def noise(image, noise_factor=0.5):\n",
        "    noisy_image = image * (1 - noise_factor) + noise_factor * torch.randn(*image.shape)\n",
        "    return noisy_image\n",
        "\n",
        "# Plotting Noised Images\n",
        "noisy_images"
      ]
    },
    {
      "cell_type": "markdown",
      "metadata": {},
      "source": []
    }
  ],
  "metadata": {
    "anaconda-cloud": {},
    "kernelspec": {
      "display_name": "python",
      "language": "python",
      "name": "python3"
    },
    "language_info": {
      "codemirror_mode": {
        "name": "ipython",
        "version": 3
      },
      "file_extension": ".py",
      "mimetype": "text/x-python",
      "name": "python",
      "nbconvert_exporter": "python",
      "pygments_lexer": "ipython3",
      "version": "3.11.6"
    }
  },
  "nbformat": 4,
  "nbformat_minor": 4
}
